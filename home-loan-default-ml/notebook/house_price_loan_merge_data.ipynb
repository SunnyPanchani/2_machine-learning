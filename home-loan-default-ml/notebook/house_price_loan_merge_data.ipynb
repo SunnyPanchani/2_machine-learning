{
  "cells": [
    {
      "cell_type": "code",
      "execution_count": null,
      "metadata": {
        "id": "4j0eNgxyOP3w"
      },
      "outputs": [],
      "source": [
        "import pandas as pd\n",
        "import numpy as np\n",
        "import matplotlib.pyplot as plt\n",
        "import seaborn as sns\n",
        "import warnings\n",
        "warnings.filterwarnings('ignore')"
      ]
    },
    {
      "cell_type": "markdown",
      "metadata": {
        "id": "N_bTCVP8b0cf"
      },
      "source": [
        "Get columns name of all data set\n"
      ]
    },
    {
      "cell_type": "code",
      "execution_count": null,
      "metadata": {
        "colab": {
          "base_uri": "https://localhost:8080/",
          "height": 373
        },
        "id": "QPtEbBorbz5w",
        "outputId": "7f44b4d8-863f-4bea-b548-81a72c48e2fa"
      },
      "outputs": [
        {
          "ename": "FileNotFoundError",
          "evalue": "[Errno 2] No such file or directory: 'application_train.csv'",
          "output_type": "error",
          "traceback": [
            "\u001b[0;31m---------------------------------------------------------------------------\u001b[0m",
            "\u001b[0;31mFileNotFoundError\u001b[0m                         Traceback (most recent call last)",
            "\u001b[0;32m/tmp/ipython-input-5-2453018576.py\u001b[0m in \u001b[0;36m<cell line: 0>\u001b[0;34m()\u001b[0m\n\u001b[0;32m----> 1\u001b[0;31m \u001b[0mapplication_train\u001b[0m \u001b[0;34m=\u001b[0m \u001b[0mpd\u001b[0m\u001b[0;34m.\u001b[0m\u001b[0mread_csv\u001b[0m\u001b[0;34m(\u001b[0m\u001b[0;34m'application_train.csv'\u001b[0m\u001b[0;34m)\u001b[0m\u001b[0;34m\u001b[0m\u001b[0;34m\u001b[0m\u001b[0m\n\u001b[0m\u001b[1;32m      2\u001b[0m \u001b[0mapplication_test\u001b[0m \u001b[0;34m=\u001b[0m \u001b[0mpd\u001b[0m\u001b[0;34m.\u001b[0m\u001b[0mread_csv\u001b[0m\u001b[0;34m(\u001b[0m\u001b[0;34m'application_test.csv'\u001b[0m\u001b[0;34m)\u001b[0m\u001b[0;34m\u001b[0m\u001b[0;34m\u001b[0m\u001b[0m\n\u001b[1;32m      3\u001b[0m \u001b[0;34m\u001b[0m\u001b[0m\n\u001b[1;32m      4\u001b[0m \u001b[0mbureau\u001b[0m \u001b[0;34m=\u001b[0m \u001b[0mpd\u001b[0m\u001b[0;34m.\u001b[0m\u001b[0mread_csv\u001b[0m\u001b[0;34m(\u001b[0m\u001b[0;34m'bureau.csv'\u001b[0m\u001b[0;34m)\u001b[0m\u001b[0;34m\u001b[0m\u001b[0;34m\u001b[0m\u001b[0m\n\u001b[1;32m      5\u001b[0m \u001b[0mbureau_balance\u001b[0m \u001b[0;34m=\u001b[0m \u001b[0mpd\u001b[0m\u001b[0;34m.\u001b[0m\u001b[0mread_csv\u001b[0m\u001b[0;34m(\u001b[0m\u001b[0;34m'bureau_balance.csv'\u001b[0m\u001b[0;34m)\u001b[0m\u001b[0;34m\u001b[0m\u001b[0;34m\u001b[0m\u001b[0m\n",
            "\u001b[0;32m/usr/local/lib/python3.11/dist-packages/pandas/io/parsers/readers.py\u001b[0m in \u001b[0;36mread_csv\u001b[0;34m(filepath_or_buffer, sep, delimiter, header, names, index_col, usecols, dtype, engine, converters, true_values, false_values, skipinitialspace, skiprows, skipfooter, nrows, na_values, keep_default_na, na_filter, verbose, skip_blank_lines, parse_dates, infer_datetime_format, keep_date_col, date_parser, date_format, dayfirst, cache_dates, iterator, chunksize, compression, thousands, decimal, lineterminator, quotechar, quoting, doublequote, escapechar, comment, encoding, encoding_errors, dialect, on_bad_lines, delim_whitespace, low_memory, memory_map, float_precision, storage_options, dtype_backend)\u001b[0m\n\u001b[1;32m   1024\u001b[0m     \u001b[0mkwds\u001b[0m\u001b[0;34m.\u001b[0m\u001b[0mupdate\u001b[0m\u001b[0;34m(\u001b[0m\u001b[0mkwds_defaults\u001b[0m\u001b[0;34m)\u001b[0m\u001b[0;34m\u001b[0m\u001b[0;34m\u001b[0m\u001b[0m\n\u001b[1;32m   1025\u001b[0m \u001b[0;34m\u001b[0m\u001b[0m\n\u001b[0;32m-> 1026\u001b[0;31m     \u001b[0;32mreturn\u001b[0m \u001b[0m_read\u001b[0m\u001b[0;34m(\u001b[0m\u001b[0mfilepath_or_buffer\u001b[0m\u001b[0;34m,\u001b[0m \u001b[0mkwds\u001b[0m\u001b[0;34m)\u001b[0m\u001b[0;34m\u001b[0m\u001b[0;34m\u001b[0m\u001b[0m\n\u001b[0m\u001b[1;32m   1027\u001b[0m \u001b[0;34m\u001b[0m\u001b[0m\n\u001b[1;32m   1028\u001b[0m \u001b[0;34m\u001b[0m\u001b[0m\n",
            "\u001b[0;32m/usr/local/lib/python3.11/dist-packages/pandas/io/parsers/readers.py\u001b[0m in \u001b[0;36m_read\u001b[0;34m(filepath_or_buffer, kwds)\u001b[0m\n\u001b[1;32m    618\u001b[0m \u001b[0;34m\u001b[0m\u001b[0m\n\u001b[1;32m    619\u001b[0m     \u001b[0;31m# Create the parser.\u001b[0m\u001b[0;34m\u001b[0m\u001b[0;34m\u001b[0m\u001b[0m\n\u001b[0;32m--> 620\u001b[0;31m     \u001b[0mparser\u001b[0m \u001b[0;34m=\u001b[0m \u001b[0mTextFileReader\u001b[0m\u001b[0;34m(\u001b[0m\u001b[0mfilepath_or_buffer\u001b[0m\u001b[0;34m,\u001b[0m \u001b[0;34m**\u001b[0m\u001b[0mkwds\u001b[0m\u001b[0;34m)\u001b[0m\u001b[0;34m\u001b[0m\u001b[0;34m\u001b[0m\u001b[0m\n\u001b[0m\u001b[1;32m    621\u001b[0m \u001b[0;34m\u001b[0m\u001b[0m\n\u001b[1;32m    622\u001b[0m     \u001b[0;32mif\u001b[0m \u001b[0mchunksize\u001b[0m \u001b[0;32mor\u001b[0m \u001b[0miterator\u001b[0m\u001b[0;34m:\u001b[0m\u001b[0;34m\u001b[0m\u001b[0;34m\u001b[0m\u001b[0m\n",
            "\u001b[0;32m/usr/local/lib/python3.11/dist-packages/pandas/io/parsers/readers.py\u001b[0m in \u001b[0;36m__init__\u001b[0;34m(self, f, engine, **kwds)\u001b[0m\n\u001b[1;32m   1618\u001b[0m \u001b[0;34m\u001b[0m\u001b[0m\n\u001b[1;32m   1619\u001b[0m         \u001b[0mself\u001b[0m\u001b[0;34m.\u001b[0m\u001b[0mhandles\u001b[0m\u001b[0;34m:\u001b[0m \u001b[0mIOHandles\u001b[0m \u001b[0;34m|\u001b[0m \u001b[0;32mNone\u001b[0m \u001b[0;34m=\u001b[0m \u001b[0;32mNone\u001b[0m\u001b[0;34m\u001b[0m\u001b[0;34m\u001b[0m\u001b[0m\n\u001b[0;32m-> 1620\u001b[0;31m         \u001b[0mself\u001b[0m\u001b[0;34m.\u001b[0m\u001b[0m_engine\u001b[0m \u001b[0;34m=\u001b[0m \u001b[0mself\u001b[0m\u001b[0;34m.\u001b[0m\u001b[0m_make_engine\u001b[0m\u001b[0;34m(\u001b[0m\u001b[0mf\u001b[0m\u001b[0;34m,\u001b[0m \u001b[0mself\u001b[0m\u001b[0;34m.\u001b[0m\u001b[0mengine\u001b[0m\u001b[0;34m)\u001b[0m\u001b[0;34m\u001b[0m\u001b[0;34m\u001b[0m\u001b[0m\n\u001b[0m\u001b[1;32m   1621\u001b[0m \u001b[0;34m\u001b[0m\u001b[0m\n\u001b[1;32m   1622\u001b[0m     \u001b[0;32mdef\u001b[0m \u001b[0mclose\u001b[0m\u001b[0;34m(\u001b[0m\u001b[0mself\u001b[0m\u001b[0;34m)\u001b[0m \u001b[0;34m->\u001b[0m \u001b[0;32mNone\u001b[0m\u001b[0;34m:\u001b[0m\u001b[0;34m\u001b[0m\u001b[0;34m\u001b[0m\u001b[0m\n",
            "\u001b[0;32m/usr/local/lib/python3.11/dist-packages/pandas/io/parsers/readers.py\u001b[0m in \u001b[0;36m_make_engine\u001b[0;34m(self, f, engine)\u001b[0m\n\u001b[1;32m   1878\u001b[0m                 \u001b[0;32mif\u001b[0m \u001b[0;34m\"b\"\u001b[0m \u001b[0;32mnot\u001b[0m \u001b[0;32min\u001b[0m \u001b[0mmode\u001b[0m\u001b[0;34m:\u001b[0m\u001b[0;34m\u001b[0m\u001b[0;34m\u001b[0m\u001b[0m\n\u001b[1;32m   1879\u001b[0m                     \u001b[0mmode\u001b[0m \u001b[0;34m+=\u001b[0m \u001b[0;34m\"b\"\u001b[0m\u001b[0;34m\u001b[0m\u001b[0;34m\u001b[0m\u001b[0m\n\u001b[0;32m-> 1880\u001b[0;31m             self.handles = get_handle(\n\u001b[0m\u001b[1;32m   1881\u001b[0m                 \u001b[0mf\u001b[0m\u001b[0;34m,\u001b[0m\u001b[0;34m\u001b[0m\u001b[0;34m\u001b[0m\u001b[0m\n\u001b[1;32m   1882\u001b[0m                 \u001b[0mmode\u001b[0m\u001b[0;34m,\u001b[0m\u001b[0;34m\u001b[0m\u001b[0;34m\u001b[0m\u001b[0m\n",
            "\u001b[0;32m/usr/local/lib/python3.11/dist-packages/pandas/io/common.py\u001b[0m in \u001b[0;36mget_handle\u001b[0;34m(path_or_buf, mode, encoding, compression, memory_map, is_text, errors, storage_options)\u001b[0m\n\u001b[1;32m    871\u001b[0m         \u001b[0;32mif\u001b[0m \u001b[0mioargs\u001b[0m\u001b[0;34m.\u001b[0m\u001b[0mencoding\u001b[0m \u001b[0;32mand\u001b[0m \u001b[0;34m\"b\"\u001b[0m \u001b[0;32mnot\u001b[0m \u001b[0;32min\u001b[0m \u001b[0mioargs\u001b[0m\u001b[0;34m.\u001b[0m\u001b[0mmode\u001b[0m\u001b[0;34m:\u001b[0m\u001b[0;34m\u001b[0m\u001b[0;34m\u001b[0m\u001b[0m\n\u001b[1;32m    872\u001b[0m             \u001b[0;31m# Encoding\u001b[0m\u001b[0;34m\u001b[0m\u001b[0;34m\u001b[0m\u001b[0m\n\u001b[0;32m--> 873\u001b[0;31m             handle = open(\n\u001b[0m\u001b[1;32m    874\u001b[0m                 \u001b[0mhandle\u001b[0m\u001b[0;34m,\u001b[0m\u001b[0;34m\u001b[0m\u001b[0;34m\u001b[0m\u001b[0m\n\u001b[1;32m    875\u001b[0m                 \u001b[0mioargs\u001b[0m\u001b[0;34m.\u001b[0m\u001b[0mmode\u001b[0m\u001b[0;34m,\u001b[0m\u001b[0;34m\u001b[0m\u001b[0;34m\u001b[0m\u001b[0m\n",
            "\u001b[0;31mFileNotFoundError\u001b[0m: [Errno 2] No such file or directory: 'application_train.csv'"
          ]
        }
      ],
      "source": [
        "application_train = pd.read_csv('application_train.csv')\n",
        "application_test = pd.read_csv('application_test.csv')\n",
        "\n",
        "bureau = pd.read_csv('bureau.csv')\n",
        "bureau_balance = pd.read_csv('bureau_balance.csv')\n",
        "\n",
        "prev = pd.read_csv('previous_application.csv')\n",
        "pos = pd.read_csv('POS_CASH_balance.csv')\n",
        "installments = pd.read_csv('installments_payments.csv')\n",
        "credit = pd.read_csv('credit_card_balance.csv')\n"
      ]
    },
    {
      "cell_type": "code",
      "execution_count": null,
      "metadata": {
        "id": "c_tG-bV4b7Gv"
      },
      "outputs": [],
      "source": [
        "print(\"application_train:\", application_train.shape)\n",
        "print(application_train.columns.tolist())\n",
        "print(\"application_test:\", application_test.shape)\n",
        "print(application_test.columns.tolist())\n",
        "print(\"bureau:\", bureau.shape)\n",
        "print(bureau.columns.tolist())\n",
        "print(\"bureau_balance:\", bureau_balance.shape)\n",
        "print(bureau_balance.columns.tolist())\n",
        "print(\"previous_application:\", prev.shape)\n",
        "print(prev.columns.tolist())\n",
        "print(\"POS_CASH_balance:\", pos.shape)\n",
        "print(pos.columns.tolist())\n",
        "print(\"installments_payments:\", installments.shape)\n",
        "print(installments.columns.tolist())\n",
        "print(\"credit_card_balance:\", credit.shape)\n",
        "print(credit.columns.tolist())\n"
      ]
    },
    {
      "cell_type": "code",
      "execution_count": null,
      "metadata": {
        "id": "MAM3SvYBcvuX"
      },
      "outputs": [],
      "source": [
        "print(application_train.shape)\n",
        "print(application_test.shape)"
      ]
    },
    {
      "cell_type": "markdown",
      "metadata": {
        "id": "rrda5s-xcZVw"
      },
      "source": [
        "Right now merge dataset then basic EDA and cleaning"
      ]
    },
    {
      "cell_type": "markdown",
      "metadata": {
        "id": "vx2HguEmOi2Q"
      },
      "source": [
        "Merge bureau_balance into bureau, then aggregate to SK_ID_CURR"
      ]
    },
    {
      "cell_type": "code",
      "execution_count": null,
      "metadata": {
        "id": "SZiF0gVAP5pQ"
      },
      "outputs": [],
      "source": [
        "bb_encoded = pd.get_dummies(bureau_balance, columns=['STATUS'])\n",
        "\n",
        "bb_agg = bb_encoded.groupby('SK_ID_BUREAU').agg('mean').reset_index()\n",
        "\n",
        "bureau_merged = bureau.merge(bb_agg, on='SK_ID_BUREAU', how='left')\n",
        "\n",
        "numeric_cols = bureau_merged.select_dtypes(include=['number']).columns.tolist()\n",
        "if 'SK_ID_CURR' not in numeric_cols:\n",
        "    numeric_cols.append('SK_ID_CURR')\n",
        "\n",
        "bureau_numeric = bureau_merged[numeric_cols]\n",
        "\n",
        "\n",
        "bureau_agg = bureau_numeric.groupby('SK_ID_CURR').agg(['mean', 'max', 'min', 'sum'])\n",
        "\n",
        "bureau_agg.columns = ['BUREAU_' + '_'.join(col).upper() for col in bureau_agg.columns]\n",
        "bureau_agg.reset_index(inplace=True)\n"
      ]
    },
    {
      "cell_type": "markdown",
      "metadata": {
        "id": "MwfJw63pdbvv"
      },
      "source": [
        "Merge previous_application with child tables"
      ]
    },
    {
      "cell_type": "code",
      "execution_count": null,
      "metadata": {
        "id": "Rvq50vbEREmv"
      },
      "outputs": [],
      "source": [
        "def agg_child(df, name):\n",
        "    numeric_df = df.select_dtypes(include=['number']).copy()\n",
        "    numeric_df['SK_ID_PREV'] = df['SK_ID_PREV']\n",
        "\n",
        "    df_agg = numeric_df.groupby('SK_ID_PREV').agg(['mean'])\n",
        "    df_agg.columns = [f\"{name}_\" + \"_\".join(col).upper() for col in df_agg.columns]\n",
        "    return df_agg.reset_index()\n",
        "\n",
        "pos_agg = agg_child(pos, \"POS\")\n",
        "inst_agg = agg_child(installments, \"INST\")\n",
        "credit_agg = agg_child(credit, \"CREDIT\")\n",
        "\n",
        "prev = prev.merge(pos_agg, on='SK_ID_PREV', how='left')\n",
        "prev = prev.merge(inst_agg, on='SK_ID_PREV', how='left')\n",
        "prev = prev.merge(credit_agg, on='SK_ID_PREV', how='left')\n",
        "\n",
        "prev_numeric = prev.select_dtypes(include=['number']).copy()\n",
        "\n",
        "if 'SK_ID_CURR' not in prev_numeric.columns:\n",
        "    prev_numeric['SK_ID_CURR'] = prev['SK_ID_CURR']\n",
        "\n",
        "prev_numeric = prev_numeric.drop(columns=['SK_ID_PREV'], errors='ignore')\n",
        "\n",
        "prev_agg = prev_numeric.groupby('SK_ID_CURR').agg(['mean'])\n",
        "prev_agg.columns = ['PREV_' + '_'.join(col).upper() for col in prev_agg.columns]\n",
        "prev_agg.reset_index(inplace=True)\n",
        "\n",
        "print(\"✅ prev_agg shape:\", prev_agg.shape)\n"
      ]
    },
    {
      "cell_type": "code",
      "execution_count": null,
      "metadata": {
        "id": "nXwwEYWMi7y2"
      },
      "outputs": [],
      "source": [
        "application_train = application_train.merge(prev_agg, on='SK_ID_CURR', how='left')\n",
        "\n",
        "application_test = application_test.merge(prev_agg, on='SK_ID_CURR', how='left')\n",
        "\n",
        "print(\"✅ Train shape after merge:\", application_train.shape)\n",
        "print(\"✅ Test shape after merge:\", application_test.shape)\n"
      ]
    },
    {
      "cell_type": "code",
      "execution_count": null,
      "metadata": {
        "id": "yaP3IB6Zkfc2"
      },
      "outputs": [],
      "source": [
        "application_train = application_train.merge(bureau_agg, on='SK_ID_CURR', how='left')\n",
        "application_test = application_test.merge(bureau_agg, on='SK_ID_CURR', how='left')\n",
        "\n",
        "print(\"✅ Final Train shape:\", application_train.shape)\n",
        "print(\"✅ Final Test shape:\", application_test.shape)\n"
      ]
    },
    {
      "cell_type": "markdown",
      "metadata": {
        "id": "VZEP4mG4k_xu"
      },
      "source": [
        "save file final merger"
      ]
    },
    {
      "cell_type": "code",
      "execution_count": null,
      "metadata": {
        "id": "bh2stR3hlC2N"
      },
      "outputs": [],
      "source": [
        "train_path = \"application_train_merged.csv\"\n",
        "test_path = \"application_test_merged.csv\"\n",
        "\n",
        "application_train.to_csv(train_path, index=False)\n",
        "application_test.to_csv(test_path, index=False)"
      ]
    },
    {
      "cell_type": "markdown",
      "metadata": {
        "id": "R4TJiX8pkzdM"
      },
      "source": [
        "we complete merge next basic EDA on application_train"
      ]
    },
    {
      "cell_type": "code",
      "execution_count": null,
      "metadata": {
        "id": "l65IYVTflNPd"
      },
      "outputs": [],
      "source": [
        "missing_values = application_train.isnull().mean().sort_values(ascending=False) * 100\n",
        "missing_values = missing_values[missing_values > 0]\n",
        "\n",
        "print(\"Columns with missing values (%):\")\n",
        "display(missing_values.to_frame('MissingPercent').head(30))  # Top 30\n"
      ]
    },
    {
      "cell_type": "code",
      "execution_count": null,
      "metadata": {
        "id": "EUo3Ggobl7zV"
      },
      "outputs": [],
      "source": [
        "application_train.info()\n"
      ]
    },
    {
      "cell_type": "code",
      "execution_count": null,
      "metadata": {
        "id": "xubMxAuHl-F0"
      },
      "outputs": [],
      "source": [
        "application_train.describe().T.sort_values(by='std', ascending=False).head(20)\n",
        "\n"
      ]
    },
    {
      "cell_type": "code",
      "execution_count": null,
      "metadata": {
        "id": "ZPUR7H2LmErU"
      },
      "outputs": [],
      "source": [
        "categorical_cols = application_train.select_dtypes(include=['object']).columns.tolist()\n",
        "\n",
        "for col in categorical_cols:\n",
        "    print(f\"{col}: {application_train[col].nunique()} unique values\")\n"
      ]
    },
    {
      "cell_type": "code",
      "execution_count": null,
      "metadata": {
        "id": "BkIbvMZ3mHMd"
      },
      "outputs": [],
      "source": [
        "sns.countplot(x='TARGET', data=application_train)\n",
        "plt.title('Target Variable Distribution (0: Not Default, 1: Default)')\n",
        "plt.show()\n",
        "\n",
        "print(application_train['TARGET'].value_counts(normalize=True) * 100)\n"
      ]
    },
    {
      "cell_type": "markdown",
      "metadata": {
        "id": "Ag70VSuroFZt"
      },
      "source": [
        "Handle Missing Values (Without Losing Important Features)"
      ]
    },
    {
      "cell_type": "code",
      "execution_count": null,
      "metadata": {
        "id": "b2hp7o8NoGg1"
      },
      "outputs": [],
      "source": [
        "missing = application_train.isnull().mean().sort_values(ascending=False)\n",
        "\n",
        "threshold = 0.4\n",
        "drop_cols = missing[missing > threshold].index.tolist()\n",
        "\n",
        "application_train_clean = application_train.drop(columns=drop_cols)\n",
        "application_test_clean = application_test.drop(columns=drop_cols)\n",
        "\n",
        "print(f\"Dropped {len(drop_cols)} columns with >{threshold*100}% missing values\")\n"
      ]
    }
  ],
  "metadata": {
    "accelerator": "GPU",
    "colab": {
      "gpuType": "T4",
      "provenance": []
    },
    "kernelspec": {
      "display_name": "Python 3",
      "name": "python3"
    },
    "language_info": {
      "name": "python"
    }
  },
  "nbformat": 4,
  "nbformat_minor": 0
}
